{
 "cells": [
  {
   "cell_type": "code",
   "execution_count": 1,
   "id": "6bf57fd8",
   "metadata": {},
   "outputs": [],
   "source": [
    "# Import the random module.\n",
    "import random\n"
   ]
  },
  {
   "cell_type": "code",
   "execution_count": 5,
   "id": "ee150e00",
   "metadata": {},
   "outputs": [
    {
     "data": {
      "text/plain": [
       "38.66074111942723"
      ]
     },
     "execution_count": 5,
     "metadata": {},
     "output_type": "execute_result"
    }
   ],
   "source": [
    "random_number = random.randint(-90, 89) + random.random()\n",
    "random_number"
   ]
  },
  {
   "cell_type": "code",
   "execution_count": 8,
   "id": "ed77869d",
   "metadata": {},
   "outputs": [
    {
     "data": {
      "text/plain": [
       "[-0.33573286322986384,\n",
       " 14.90656075201165,\n",
       " -47.29227620825494,\n",
       " 59.33346207605025,\n",
       " -65.25838504495296,\n",
       " 74.44062071590162,\n",
       " -34.06440633320284,\n",
       " 81.73072087468212,\n",
       " 47.2004699673327]"
      ]
     },
     "execution_count": 8,
     "metadata": {},
     "output_type": "execute_result"
    }
   ],
   "source": [
    "x = 1 \n",
    "latitudes = []\n",
    "while x < 10:\n",
    "    random_lat = random.randint(-90,89) + random.random()\n",
    "    latitudes.append(random_lat)\n",
    "    x += 1\n",
    "    \n",
    "latitudes"
   ]
  },
  {
   "cell_type": "code",
   "execution_count": 15,
   "id": "8df45da8",
   "metadata": {},
   "outputs": [
    {
     "data": {
      "text/plain": [
       "59"
      ]
     },
     "execution_count": 15,
     "metadata": {},
     "output_type": "execute_result"
    }
   ],
   "source": [
    "random.randrange(-90, 90, step=1)"
   ]
  },
  {
   "cell_type": "code",
   "execution_count": 14,
   "id": "76ede08f",
   "metadata": {},
   "outputs": [
    {
     "data": {
      "text/plain": [
       "15"
      ]
     },
     "execution_count": 14,
     "metadata": {},
     "output_type": "execute_result"
    }
   ],
   "source": [
    "random.randrange(-90, 90, step=3)"
   ]
  },
  {
   "cell_type": "code",
   "execution_count": 16,
   "id": "99be2d5b",
   "metadata": {},
   "outputs": [
    {
     "data": {
      "text/plain": [
       "41.30613969288774"
      ]
     },
     "execution_count": 16,
     "metadata": {},
     "output_type": "execute_result"
    }
   ],
   "source": [
    "random.uniform(-90, 90)"
   ]
  },
  {
   "cell_type": "code",
   "execution_count": 17,
   "id": "c719f6dd",
   "metadata": {},
   "outputs": [],
   "source": [
    "import numpy as np"
   ]
  },
  {
   "cell_type": "code",
   "execution_count": 19,
   "id": "47a5fc39",
   "metadata": {},
   "outputs": [
    {
     "data": {
      "text/plain": [
       "array([ 73.0643698 ,  -6.00309752,  -8.25736133, -70.3527615 ,\n",
       "       -17.84024156, -48.43001836,  20.80189227,   7.38847099,\n",
       "       -54.51496303, -34.16917001, -29.69051797,  -7.08409597,\n",
       "       -32.62059045,  41.87153347, -58.30788288,  43.34298241,\n",
       "       -28.02339977, -27.59877417,  89.11047311,  53.43091477,\n",
       "       -61.32127139, -40.29858159, -35.37664072, -61.16737534,\n",
       "       -55.36230104, -17.48976806,  26.61262329,  23.99138708,\n",
       "        59.48620346, -18.8772566 ,  82.46928375, -22.68048247,\n",
       "        83.20099858, -84.93573461, -48.17561924, -54.94763536,\n",
       "       -18.70628456, -88.17601843,  45.23208235, -74.0864482 ,\n",
       "        54.45872749,  81.94579203, -28.97439599, -77.68997578,\n",
       "        -6.53377943, -15.92218757, -80.61905645,  66.92926838,\n",
       "        78.97056434, -17.88593339])"
      ]
     },
     "execution_count": 19,
     "metadata": {},
     "output_type": "execute_result"
    }
   ],
   "source": [
    "np.random.uniform(-90.000, 90.000, size=50)"
   ]
  },
  {
   "cell_type": "code",
   "execution_count": 20,
   "id": "75466bbf",
   "metadata": {},
   "outputs": [],
   "source": [
    "import timeit"
   ]
  },
  {
   "cell_type": "code",
   "execution_count": 21,
   "id": "2c351b80",
   "metadata": {},
   "outputs": [
    {
     "name": "stdout",
     "output_type": "stream",
     "text": [
      "13.7 µs ± 420 ns per loop (mean ± std. dev. of 7 runs, 100000 loops each)\n"
     ]
    }
   ],
   "source": [
    "%timeit np.random.uniform(-90.000, 90.000, size=1500)"
   ]
  },
  {
   "cell_type": "code",
   "execution_count": 23,
   "id": "217cc8d7",
   "metadata": {},
   "outputs": [
    {
     "data": {
      "text/plain": [
       "array([ 84.18179296, -68.03303284,  14.71632166, ...,  15.97630443,\n",
       "       -31.47617749,  15.34718743])"
      ]
     },
     "execution_count": 23,
     "metadata": {},
     "output_type": "execute_result"
    }
   ],
   "source": [
    "np.random.uniform(-90.000, 90.000, size=1500)"
   ]
  },
  {
   "cell_type": "code",
   "execution_count": null,
   "id": "f5815c68",
   "metadata": {},
   "outputs": [],
   "source": []
  }
 ],
 "metadata": {
  "kernelspec": {
   "display_name": "PythonData",
   "language": "python",
   "name": "pythondata"
  },
  "language_info": {
   "codemirror_mode": {
    "name": "ipython",
    "version": 3
   },
   "file_extension": ".py",
   "mimetype": "text/x-python",
   "name": "python",
   "nbconvert_exporter": "python",
   "pygments_lexer": "ipython3",
   "version": "3.7.10"
  }
 },
 "nbformat": 4,
 "nbformat_minor": 5
}
